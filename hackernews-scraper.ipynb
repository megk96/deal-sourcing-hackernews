{
 "cells": [
  {
   "attachments": {},
   "cell_type": "markdown",
   "metadata": {},
   "source": [
    "# Deal-Sourcing from from HackerNews: Who's Hiring\n",
    "\n",
    "\n",
    "## Scraper "
   ]
  },
  {
   "cell_type": "code",
   "execution_count": 298,
   "metadata": {},
   "outputs": [],
   "source": [
    "from bs4 import BeautifulSoup\n",
    "from base64 import b64decode\n",
    "import glob\n",
    "import json\n",
    "import os\n",
    "import requests\n",
    "import time\n",
    "from tqdm import tqdm\n",
    "import backoff"
   ]
  },
  {
   "cell_type": "code",
   "execution_count": 299,
   "metadata": {},
   "outputs": [],
   "source": [
    "DOMAIN = 'https://news.ycombinator.com/'\n",
    "PAGES = {\n",
    "    # Considering companies that are hiring in 2022-2023 since those are the companies that are most likely to be currently active for consideration for Series A Funding\n",
    "    'whoishiring': DOMAIN + 'submitted?id=whoishiring',\n",
    "    'listings': DOMAIN + 'item?id={item_id}&p={page}',\n",
    "}"
   ]
  },
  {
   "attachments": {},
   "cell_type": "markdown",
   "metadata": {},
   "source": [
    "### Zyte: For Web Scraping\n",
    "Scraping always involves a delicate balance between data collection and respecting the website's resources and policies. When using Zyte's Scrapy Cloud platform, following their guidelines and best practices will help avoid getting banned or hitting rate limits, ensuring a smoother and more efficient web scraping process."
   ]
  },
  {
   "cell_type": "code",
   "execution_count": 300,
   "metadata": {},
   "outputs": [],
   "source": [
    "ZYTE_API_KEY = \"WITHDRAWN\"\n",
    "def get_zyte_request(url):\n",
    "    api_response = requests.post(\n",
    "        \"https://api.zyte.com/v1/extract\",\n",
    "        auth=(ZYTE_API_KEY, \"\"),\n",
    "        json={\n",
    "            \"url\": url,  \n",
    "            \"httpResponseBody\": True \n",
    "        },\n",
    "    )\n",
    "    http_response_body: bytes = b64decode(\n",
    "        api_response.json()[\"httpResponseBody\"])\n",
    "    return http_response_body"
   ]
  },
  {
   "attachments": {},
   "cell_type": "markdown",
   "metadata": {},
   "source": [
    "### URL Queue\n",
    "A URL Queue to collect and execute scraping on paginated webpages of hackerrank - who is hiring. "
   ]
  },
  {
   "cell_type": "code",
   "execution_count": 301,
   "metadata": {},
   "outputs": [],
   "source": [
    "class URLQueue:\n",
    "    def __init__(self):\n",
    "        self.queue = []\n",
    "\n",
    "    def is_empty(self):\n",
    "        return len(self.queue) == 0\n",
    "\n",
    "    def enqueue(self, url):\n",
    "        self.queue.append(url)\n",
    "\n",
    "    def dequeue(self):\n",
    "        if not self.is_empty():\n",
    "            return self.queue.pop(0)  \n",
    "        return None\n",
    "    \n",
    "    def peek(self):\n",
    "        if not self.is_empty():\n",
    "            return self.queue[0]\n",
    "        return None\n",
    "\n",
    "    def size(self):\n",
    "        return len(self.queue)"
   ]
  },
  {
   "attachments": {},
   "cell_type": "markdown",
   "metadata": {},
   "source": [
    "#### listings (dict)\n",
    "- `key`: Listing title e.g: ```\"Ask HN: Who is hiring? (July 2023)\"```\n",
    "- `value`: List of comments that are at indent 1 *(This ignores comments with indent 2+ as they are replies and are left out of the scope of this project)*\n",
    "\n",
    "#### get_next_page(url)\n",
    "It is a common utility function for page of type `whoishiring` or `listings`, the HTML follows the same format for the `morelink` attribute to get the link to the next page. \n",
    "\n",
    "#### process_page(url, queue, mode)\n",
    "The function to get the links of the pages attached to it, and to process the relevant information. This has two different modes of operations `whoishiring` and `listings`\n",
    "- the `whoishiring` pages contain the links to the `listings` page, we only consider the Hiring posts and **not** the Freelancer/Want to be hired posts. These pages are then queued. \n",
    "- the `listings` pages contain the actual listing to be scraped, along with the next page which is added to the queue. "
   ]
  },
  {
   "cell_type": "code",
   "execution_count": 302,
   "metadata": {},
   "outputs": [],
   "source": [
    "listings = {}\n",
    "@backoff.on_exception(backoff.expo, requests.exceptions.RequestException, max_tries=5)\n",
    "def get_next_page(url):\n",
    "    page = get_zyte_request(url)\n",
    "    soup = BeautifulSoup(page.decode(\"utf-8\"), 'html.parser')\n",
    "    # Find the element with class \"morelink\"\n",
    "    morelink_element = soup.find('a', {'class': 'morelink'})\n",
    "    # Extract the href attribute if the element is found\n",
    "    if morelink_element:\n",
    "        href_value = morelink_element.get('href')\n",
    "        return href_value\n",
    "    else:\n",
    "       return None\n",
    "\n",
    "@backoff.on_exception(backoff.expo, requests.exceptions.RequestException, max_tries=5)\n",
    "def process_page(url, queue, mode=\"whoishiring\"):\n",
    "    page = get_zyte_request(url)\n",
    "    if not page:\n",
    "        return queue\n",
    "    soup = BeautifulSoup(page.decode(\"utf-8\"), 'html.parser')\n",
    "    if mode==\"whoishiring\":\n",
    "        posts = soup.find_all(class_=\"athing\")\n",
    "        for post in posts:\n",
    "            if post and post.find('span', {'class': 'titleline'}):\n",
    "                a_block = post.find('span', {'class': 'titleline'}).find('a')\n",
    "                link = DOMAIN + a_block.get('href')\n",
    "                if 'hiring' in a_block.get_text().lower():\n",
    "                    queue.enqueue(link)\n",
    "    elif mode==\"listings\":\n",
    "        key = soup.find('tr', {'id': 'pagespace'}).get('title')\n",
    "        if key not in listings:\n",
    "            listings[key] = []\n",
    "        comments = soup.find_all(class_=\"athing comtr\")\n",
    "        for comment in comments:\n",
    "            if comment.find('td', {'class': 'ind', 'indent': '0'}) and comment.find('span', {'class': 'commtext c00'}):\n",
    "                comment_text = comment.find('span', {'class': 'commtext c00'}).get_text(separator='\\n')\n",
    "\n",
    "                listings[key].append(comment_text)\n",
    "            \n",
    "    else:\n",
    "        raise ValueError(\"mode must be either 'whoishiring' or 'listings'\")\n",
    "    return queue"
   ]
  },
  {
   "attachments": {},
   "cell_type": "markdown",
   "metadata": {},
   "source": [
    "#### get_urls_to_scrape(queue) \n",
    "This function exhausts the queue passed in the argument and processes the two different modes of pages `whoishiring` and `listings`, and adds the next page of the `listings` pages and processes them all. "
   ]
  },
  {
   "cell_type": "code",
   "execution_count": 303,
   "metadata": {},
   "outputs": [],
   "source": [
    "def get_urls_to_scrape(queue):\n",
    "    while not queue.is_empty():\n",
    "        current_url = queue.peek()\n",
    "        if \"whoishiring\" in current_url:\n",
    "            queue = process_page(current_url, queue, mode=\"whoishiring\")\n",
    "        else:\n",
    "            queue = process_page(current_url, queue, mode=\"listings\")\n",
    "            next_url = get_next_page(current_url)\n",
    "            if next_url is not None:\n",
    "                new_url = DOMAIN + next_url\n",
    "                queue.enqueue(new_url)\n",
    "        queue.dequeue()\n",
    "    return queue"
   ]
  },
  {
   "attachments": {},
   "cell_type": "markdown",
   "metadata": {},
   "source": [
    "#### Processing May 2020 to Aug 2023\n",
    "We will iterate through the first 4 pages of the `whoishiring` posts, to cover May 2020 to Aug 2023. \n",
    "For the scope of this project, we will end up only leveraging posts from 2022-2023, since they will likely be most relevant for potential investments, and also to adhere to the computational limitations of the resources at hand. "
   ]
  },
  {
   "cell_type": "code",
   "execution_count": 306,
   "metadata": {},
   "outputs": [
    {
     "name": "stdout",
     "output_type": "stream",
     "text": [
      "Scraping page 1 of 4\n",
      "Scraping page 2 of 4\n",
      "Scraping page 3 of 4\n",
      "Scraping page 4 of 4\n"
     ]
    }
   ],
   "source": [
    "url_queue = URLQueue()\n",
    "current_page = PAGES['whoishiring']\n",
    "for i in range(4):\n",
    "    print(f\"Scraping page {i+1} of {4}\")\n",
    "    url_queue.enqueue(current_page)\n",
    "    url_queue = get_urls_to_scrape(url_queue)\n",
    "    next_blurb = get_next_page(current_page)\n",
    "    if next_blurb is not None:\n",
    "       next_page = DOMAIN + next_blurb\n",
    "    else:\n",
    "        break\n",
    "    current_page = next_page"
   ]
  },
  {
   "cell_type": "code",
   "execution_count": null,
   "metadata": {},
   "outputs": [],
   "source": [
    "import re\n",
    "updated_listings_data = {}\n",
    "\n",
    "# Update the keys to remove \"Ask HN: Who is hiring?\" and keep only the month and year\n",
    "for key, listing in listings.items():\n",
    "    month_and_year = re.search(r'\\((.*?)\\)', key).group(1).strip()\n",
    "    updated_listings_data[month_and_year] = listing\n",
    "\n",
    "with open(\"listings.json\", \"w\") as fp:\n",
    "    json.dump(updated_listings_data, fp)"
   ]
  },
  {
   "cell_type": "code",
   "execution_count": 307,
   "metadata": {},
   "outputs": [],
   "source": [
    "import matplotlib.pyplot as plt\n",
    "def plot_dict_with_count(dictionary, title):\n",
    "    \"\"\"Plot a dictionary with the keys as x-axis and the values as y-axis\"\"\"\n",
    "    # Extract the x and y data for plotting\n",
    "    x = list(dictionary.keys())\n",
    "    y = [len(dictionary[key]) for key in x]\n",
    "\n",
    "    # Create the plot\n",
    "    plt.figure(figsize=(12, 5))\n",
    "    plt.bar(x, y, color='skyblue')\n",
    "    plt.xlabel('Month and Year')\n",
    "    plt.ylabel('Number of Listings')\n",
    "    plt.title(title)\n",
    "    plt.xticks(rotation=45, ha='right')\n",
    "\n",
    "    # Show the plot\n",
    "    plt.tight_layout()\n",
    "    plt.show()"
   ]
  },
  {
   "cell_type": "code",
   "execution_count": 309,
   "metadata": {},
   "outputs": [
    {
     "name": "stdout",
     "output_type": "stream",
     "text": [
      "The keys in listings: dict_keys(['August 2023', 'July 2023', 'June 2023', 'May 2023', 'April 2023', 'March 2023', 'February 2023', 'January 2023', 'December 2022', 'November 2022', 'October 2022', 'September 2022', 'August 2022', 'July 2022', 'June 2022', 'May 2022', 'April 2022', 'March 2022', 'February 2022', 'January 2022', 'December 2021', 'November 2021', 'October 2021', 'September 2021', 'August 2021', 'July 2021', 'June 2021', 'May 2021', 'April 2021', 'March 2021', 'February 2021', 'January 2021', 'December 2020', 'November 2020', 'October 2020', 'September 2020', 'August 2020', 'July 2020', 'June 2020', 'May 2020'])\n",
      "The total number of listings from May 2020 to Aug 2023: 25391\n"
     ]
    },
    {
     "data": {
      "image/png": "[encoded data removed]",
      "text/plain": [
       "<Figure size 1200x500 with 1 Axes>"
      ]
     },
     "metadata": {},
     "output_type": "display_data"
    }
   ],
   "source": [
    "print(f\"The keys in listings: {listings.keys()}\")\n",
    "print(f\"The total number of listings from May 2020 to Aug 2023: {sum([len(x) for x in listings.values()])}\")\n",
    "plot_dict_with_count(listings, \"Number of listings across months\")\n"
   ]
  },
  {
   "attachments": {},
   "cell_type": "markdown",
   "metadata": {},
   "source": [
    "### Sanity Checks \n",
    "Tests to ensure that the data is properly scraped\n",
    "1. We ensure it has all the months between May 2020-August 2023 (These pages are expected from the first 4 `whoishiring` pages at the time of scraping)\n",
    "2. Backblaze is present in the value of the key containing September 2022. This is one of the listings for the month that is in the last pages of September 2022. It ensures that all pages were pulled. (Atleast for Sept 2022 in this spot check!)\n",
    "3. Similarly Cocoon is in the listing in one of the middle pages for August 2023. "
   ]
  },
  {
   "cell_type": "code",
   "execution_count": 310,
   "metadata": {},
   "outputs": [
    {
     "name": "stderr",
     "output_type": "stream",
     "text": [
      "test_backblaze_in_september_2022 (__main__.TestScrapedData) ... ok\n",
      "test_cocoon_in_august_2023 (__main__.TestScrapedData) ... ok\n",
      "test_month_range (__main__.TestScrapedData) ... ok\n",
      "\n",
      "----------------------------------------------------------------------\n",
      "Ran 3 tests in 0.005s\n",
      "\n",
      "OK\n"
     ]
    }
   ],
   "source": [
    "import unittest\n",
    "class TestScrapedData(unittest.TestCase):\n",
    "    def test_month_range(self):\n",
    "        # Test 1: listings.keys() contains all months between August 2023 to May 2020\n",
    "        all_months = set([\n",
    "            'August 2023', 'July 2023', 'June 2023', 'May 2023', 'April 2023', 'March 2023', 'February 2023', 'January 2023',\n",
    "            'December 2022', 'November 2022', 'October 2022', 'September 2022', 'August 2022', 'July 2022', 'June 2022',\n",
    "            'May 2022', 'April 2022', 'March 2022', 'February 2022', 'January 2022', 'December 2021', 'November 2021',\n",
    "            'October 2021', 'September 2021', 'August 2021', 'July 2021', 'June 2021', 'May 2021', 'April 2021', 'March 2021',\n",
    "            'February 2021', 'January 2021', 'December 2020', 'November 2020', 'October 2020', 'September 2020', 'August 2020',\n",
    "            'July 2020', 'June 2020', 'May 2020'\n",
    "        ])\n",
    "        self.assertEqual(set(listings.keys()), all_months)\n",
    "\n",
    "    def test_backblaze_in_september_2022(self):\n",
    "        flag = False\n",
    "        # Test 2: Backblaze is present in the value of the key containing September 2022\n",
    "        for s in listings[\"{month}\".format(month=\"September 2022\")]:\n",
    "            if  'Backblaze' in s:\n",
    "                flag = True\n",
    "                break\n",
    "        self.assertTrue(flag)\n",
    "\n",
    "    def test_cocoon_in_august_2023(self):\n",
    "        flag = False\n",
    "        # Test 3: Cocoon is present in the value of the key containing August 2023\n",
    "        for s in listings[\"{month}\".format(month=\"August 2023\")]:\n",
    "            if 'Cocoon' in s:\n",
    "                flag = True\n",
    "                break\n",
    "        self.assertTrue(flag)\n",
    "\n",
    "if __name__ == '__main__':\n",
    "    suite = unittest.TestLoader().loadTestsFromTestCase(TestScrapedData)\n",
    "    # Create a TextTestRunner and run the tests\n",
    "    runner = unittest.TextTestRunner(verbosity=2)\n",
    "    runner.run(suite)"
   ]
  },
  {
   "attachments": {},
   "cell_type": "markdown",
   "metadata": {},
   "source": [
    "## Data Preparation\n",
    "Now that we have the scraped comments, we need to structure them into a `Listing` class. \n",
    "- `company_name` that is extracted from a line separated by \"|\" and is usually the first entity. \n",
    "- `location` that is extracted using **Named Entity Recognition** \n",
    "- `is_europe` that is a flag that detects whether the given location is in Europe. (Since the firm is focussed on Series A companies in Europe.)\n",
    "- `keywords` that aim to extract the domain, field, specific technologies as keywords from the comments. This is then later explored as an embedding vector to cluster companies. \n",
    "- `description` is simply the entire comment, if at all it can be useful in its raw form for future manipulation. \n",
    "- `date` captures which month, year the listing was posted\n",
    "\n",
    "We also store the scraped listings as `listings.json` that can be easily loaded."
   ]
  },
  {
   "cell_type": "code",
   "execution_count": 369,
   "metadata": {},
   "outputs": [],
   "source": [
    "with open(\"listings.json\", \"r\") as f:\n",
    "    listings = json.load(f)\n",
    "\n",
    "from typing import List\n",
    "\n",
    "class Listing:\n",
    "    def __init__(self, company_name: str, location: List[str], is_europe: bool, keywords: List[str], description: str, date: str, keyword_embedding: List[float] = None):\n",
    "        self.company_name = company_name\n",
    "        self.location = location\n",
    "        self.is_europe = is_europe\n",
    "        self.keywords = keywords\n",
    "        self.description = description\n",
    "        self.date = date\n",
    "        self.keyword_embedding = keyword_embedding"
   ]
  },
  {
   "attachments": {},
   "cell_type": "markdown",
   "metadata": {},
   "source": [
    "## Named Entity Recognition \n",
    "The next section explores using spacy, pytextrank, Rake libraries for extracting the necessary information from the listing text into a `Listing` class with the relevant attributes."
   ]
  },
  {
   "attachments": {},
   "cell_type": "markdown",
   "metadata": {},
   "source": [
    "### Data Pre-processing \n",
    "To truly capture the semantics of a name, noise/additional characters are removed and standard preprocessing techniques are employed. \n",
    "- Punctuation and Special Characters are removed\n",
    "- Sentence is tokenized\n",
    "- Converted to lowercase \n",
    "- Stopwords are removed\n",
    "- Lemmatization (root words)"
   ]
  },
  {
   "cell_type": "code",
   "execution_count": 312,
   "metadata": {},
   "outputs": [
    {
     "name": "stderr",
     "output_type": "stream",
     "text": [
      "[nltk_data] Downloading package punkt to /Users/meg-kumar/nltk_data...\n",
      "[nltk_data]   Package punkt is already up-to-date!\n",
      "[nltk_data] Downloading package stopwords to /Users/meg-\n",
      "[nltk_data]     kumar/nltk_data...\n",
      "[nltk_data]   Package stopwords is already up-to-date!\n",
      "[nltk_data] Downloading package wordnet to /Users/meg-\n",
      "[nltk_data]     kumar/nltk_data...\n",
      "[nltk_data]   Package wordnet is already up-to-date!\n"
     ]
    }
   ],
   "source": [
    "import random\n",
    "import re\n",
    "import string\n",
    "import nltk\n",
    "from nltk.corpus import stopwords\n",
    "from nltk.stem import WordNetLemmatizer\n",
    "\n",
    "nltk.download('punkt')\n",
    "nltk.download('stopwords')\n",
    "nltk.download('wordnet')\n",
    "\n",
    "def preprocess_sentence(sentence):\n",
    "    # Remove punctuation\n",
    "    translator = str.maketrans(string.punctuation, ' '*len(string.punctuation))\n",
    "    sentence = sentence.translate(translator)\n",
    "    sentence = re.sub('[^A-Za-z0-9]+', ' ', sentence)\n",
    "    # Tokenize the sentence\n",
    "    tokens = nltk.word_tokenize(sentence)\n",
    "    # Convert to lowercase\n",
    "    tokens = [token.lower() for token in tokens]\n",
    "    # Remove stopwords\n",
    "    stop_words = set(stopwords.words('english'))\n",
    "    tokens = [token for token in tokens if token not in stop_words]\n",
    "    # Lemmatization\n",
    "    lemmatizer = WordNetLemmatizer()\n",
    "    tokens = [lemmatizer.lemmatize(token) for token in tokens]\n",
    "    # Join the tokens back into a sentence\n",
    "    preprocessed_sentence = ' '.join(tokens)\n",
    "    return preprocessed_sentence"
   ]
  },
  {
   "attachments": {},
   "cell_type": "markdown",
   "metadata": {},
   "source": [
    "### Keyword Extraction Method\n",
    "Experimenting with different keyword extraction methods and comparing results for a random sample of 5 job listings"
   ]
  },
  {
   "attachments": {},
   "cell_type": "markdown",
   "metadata": {},
   "source": [
    "#### KeyBERT\n",
    "KeyBERT is a keyword extraction technique based on BERT embeddings, which utilizes contextual information to identify the most relevant keywords or key phrases from a given text."
   ]
  },
  {
   "cell_type": "code",
   "execution_count": 317,
   "metadata": {},
   "outputs": [],
   "source": [
    "from keybert import KeyBERT\n",
    "kw_model = KeyBERT()\n",
    "\n",
    "def keywords_extraction_keybert(text):\n",
    "    text = preprocess_sentence(text)\n",
    "    keywords = kw_model.extract_keywords(text, top_n=40)\n",
    "    return [k[0] for k in keywords]"
   ]
  },
  {
   "attachments": {},
   "cell_type": "markdown",
   "metadata": {},
   "source": [
    "#### TextRank \n",
    "TextRank is an unsupervised graph-based algorithm that ranks words or phrases in a text by analyzing their co-occurrence patterns, providing an automated way to extract important keywords or key phrases."
   ]
  },
  {
   "cell_type": "code",
   "execution_count": 314,
   "metadata": {},
   "outputs": [],
   "source": [
    "import pytextrank\n",
    "import spacy\n",
    "from spacy.lang.en.stop_words import STOP_WORDS\n",
    "\n",
    "nlp_textrank = spacy.load(\"en_core_web_sm\")\n",
    "nlp_textrank.add_pipe(\"textrank\")\n",
    "\n",
    "def keywords_extraction_textrank(text):\n",
    "    text = preprocess_sentence(text)\n",
    "    doc = nlp_textrank(text)\n",
    "    # examine the top-ranked phrases in the document\n",
    "    phrases = [phrase.text for phrase in doc._.phrases[:50] if phrase.text.lower() not in STOP_WORDS]\n",
    "    return \", \".join(phrases)\n"
   ]
  },
  {
   "cell_type": "code",
   "execution_count": 319,
   "metadata": {},
   "outputs": [
    {
     "name": "stdout",
     "output_type": "stream",
     "text": [
      "Relay.club | AI Software Engineer | REMOTE | Full-time | \n",
      "https://www.relay.club/\n",
      "LOCATION: Fully remote\n",
      "TECH STACK: OpenAI, Typescript, NextJS, React, Supabase\n",
      "We're relay.club, an influencer management platform that connects brands with social media influencers. We're a small and growing startup that has raised over $350,000 in our first round of funding.\n",
      "Workplace satisfaction, code quality, and professional development are important to us. Strong company culture of empowerment.\n",
      "► AI Senior Software Engineer\n",
      "Show a job or personal project using the OpenAI API.\n",
      "► AI Apprentice Software Engineer\n",
      "For early career devs and coding camp new graduates. Show a personal project using the OpenAI API.\n",
      "Our hiring process takes about three hours and consists of only interviews and a one-hour mock code review.\n",
      "Job descriptions: \n",
      "https://hiring-relay-club.pages.dev/\n",
      "  Interested? Email our COO, sophia@relay.club.\n",
      "---\n",
      "['hiring', 'openai', 'supabase', 'apprentice', 'engineer', 'relay', 'tech', 'api', 'interview', 'ai', 'workplace', 'development', 'company', 'club', 'career', 'nextjs', 'job', 'coding', 'management', 'dev', 'software', 'stack', 'code', 'social', 'typescript', 'devs', 'remote', 'graduate', 'professional', 'funding', 'satisfaction', 'react', 'senior', 'influencers', 'influencer', 'camp', 'process', 'project', 'hour', 'platform']\n",
      "---\n",
      "relay club, full time http www relay club location, supabase relay club influencer management platform, senior software engineer show job personal project, one hour mock code review job description http hiring relay club page dev interested email coo sophia relay club, software engineer, first round funding workplace satisfaction code quality professional development important u strong company culture empowerment, brand social medium influencers, personal project, openai api hiring process, openai api ai apprentice software engineer, small growing startup, fully remote tech stack openai typescript nextjs, coo sophia, interview, new graduate, early career devs, one hour, three hour, devs, 350\n",
      "Condor Software | Software Engineer, Full Stack (Django, React) | Remote, San Diego, New York, or Boston | Full-time\n",
      "Condor is building a world where finance accelerates human progress in medicine.\n",
      "Our mission is to help biotech finance teams save time, money, and lives by bringing more cutting-edge therapies to market, faster and more affordably.\n",
      "We started Condor because we realized that the life-saving treatments needed by our loved ones were held back by billions of dollars in complicated, time-consuming, and inefficient financial processes, which consistently delay clinical trial deployment and growth.\n",
      "With more demand than we can currently service, we're looking for product leaning software engineers interested in tackling a big, hairy, complex business domain, value building \"code that is easy to delete,\" and geek out about going \"six levels down\" (\n",
      "https://podcasts.apple.com/us/podcast/episode-1-six-levels-d...\n",
      ") and skilled people who are also \"good humans\" interested in our mission.\n",
      "More about us here (\n",
      "https://bit.ly/about-condor220801\n",
      ").\n",
      "Interested? Shoot us an email with a note about why you're interested in joining and a resume or link to project(s) you are proud of:\n",
      "careers@condorsoftware.com\n",
      "---\n",
      "['condorsoftware', 'condor', 'condor220801', 'biotech', 'engineer', 'software', 'career', 'progress', 'mission', 'django', 'resume', 'stack', 'podcast', 'skilled', 'medicine', 'podcasts', 'service', 'financial', 'affordably', 'finance', 'geek', 'note', 'deployment', 'level', 'joining', 'process', 'demand', 'market', 'life', 'looking', 'business', 'clinical', 'started', 'inefficient', 'building', 'world', 'money', 'apple', 'interested', 'product']\n",
      "---\n",
      "apple com u, human progress medicine mission, remote san diego new york boston full time condor building world finance, time money life, also good human interested mission u http bit, condor software software engineer, big hairy complex business domain value building code easy delete geek, podcast episode, biotech finance team, clinical trial deployment growth demand, resume link project, full stack django, inefficient financial process, edge therapy market, currently service looking product leaning software engineer, new york, life, san diego, six level http, condor220801, boston, treatment, 1 six level skilled people, faster affordably started condor, billion dollar, 1 six\n",
      "Maddox.ai | Software Engineers | Full-time | German + English | Germany, Tuebingen\n",
      "https://www.maddox.ai/en/\n",
      " | \n",
      "https://maddox-ai-gmbh.jobs.personio.de/?language=en\n",
      "Our product, Maddox AI, is an AI-based visual quality control solution, which can automate manually performed quality inspection for manufacturing companies. Maddox AI is an asset-light SaaS solution, which addresses those visual inspection tasks that are still performed manually, as conventional (=rule-based) computer vision methods fail. In product development, we closely collaborate with leading AI researchers from the Cyber Valley. Prof. Dr. Matthias Bethge, Prof. Dr. Alexander Ecker and Dr. Wieland Brendel have been researching in the field of machine learning and computer vision for years and are part of our founding team.\n",
      "Maddox AI is used by DAX-30 companies as well as by large medium-sized enterprises. Our team consists of scientists, former strategy consultants, mechanical engineers, and software engineers. We know that Maddox AI's success is only made possible by our unique team. As we continue to grow, we want to convince the best and brightest minds of our mission to establish Maddox AI as the modern quality management platform.\n",
      "We are looking for new colleagues for the following position:\n",
      "(Senior) Software Engineer, Edge (m/f/d) | ONSITE Tuebingen | (\n",
      "https://maddox-ai-gmbh.jobs.personio.de/job/894530?display=e\n",
      "...)\n",
      "- Main Technologies: Python3, PyQT/QML <- If you are good in one of those, we want to get to know you :)\n",
      "- Other Technologies: Ubuntu, (Embedded) Linux, ONNX, TenorRT, CUDA, Nvidia Jetson Platform, L4T, Systemd, neoapi\n",
      "As part of the edge software team, you will contribute to the development of our edge software framework, which is crucial to enable running models in nearly real time on the customer's manufacturing site. Your code will be responsible to connect all the dots: from image acquisition via our industrial cams, integrating cutting-edge machine-learning techniques into low-latency edge environments, providing industry-standard interfaces for full automation to implementing UI components for our touchscreen interface, and communicating with our cloud infrastructure. You will be working closely not only with your software engineering but also with machine learning and hardware engineering peers.\n",
      "---\n",
      "['engineer', 'ai', 'automate', 'automation', 'enterprise', 'engineering', 'industrial', 'consultant', 'inspection', 'researcher', 'visual', 'industry', 'software', 'machine', 'researching', 'technology', 'ui', 'dax', 'colleague', 'infrastructure', 'vision', 'cam', 'learning', 'maddox', 'implementing', 'management', 'company', 'gmbh', 'hardware', 'manufacturing', 'collaborate', 'mechanical', 'development', 'cyber', 'edge', 'qml', 'ecker', 'onnx', 'brightest', 'task']\n",
      "---\n",
      "position senior software engineer edge f onsite tuebingen http maddox, former strategy consultant mechanical engineer software engineer know maddox, software engineer, edge machine learning technique low latency edge environment, development edge software framework crucial enable running model, linux onnx tenorrt cuda nvidia jetson platform l4t systemd neoapi part edge software team, http maddox, computer vision year part founding team maddox, quality inspection manufacturing company maddox, gmbh job personio de job, www maddox, prof dr, visual quality control solution automate, maddox, german english germany tuebingen http, possible unique team, industry standard interface full automation, field machine, dr wieland, component touchscreen interface, modern quality management platform, gmbh job, product development, personio de language, gmbh job personio de language en product maddox, cuda nvidia jetson, nearly real time customer manufacturing site code responsible connect dot image acquisition, onsite tuebingen, qml good one, best brightest mind mission establish maddox, cloud infrastructure, well large medium sized enterprise team, linux onnx, alexander ecker, manually conventional rule based computer vision method, closely software engineering, english germany, new colleague, 894530 display e main technology, year, convince, get know technology ubuntu, german, python3, 30, 894530\n"
     ]
    }
   ],
   "source": [
    "test_texts = [r for r in random.sample(listings['July 2023'], 3)]\n",
    "for t in test_texts:\n",
    "    print(t)\n",
    "    print('---')\n",
    "    print(keywords_extraction_keybert(t))\n",
    "    print('---')\n",
    "    print(keywords_extraction_textrank(t))"
   ]
  },
  {
   "attachments": {},
   "cell_type": "markdown",
   "metadata": {},
   "source": [
    "Upon inspection of the keywords, `textrank` seems to offer a better perspective into what might actually be useful for determining the factors that would influence whether a company would be a good investment or not. `textrank` gives phrases that cover concepts across what field/domain the company is in, what roles are open, core values of company, tech stack, company culture. But `keybert` on the other hand gives single word keywords that don't give a deeper dive into what the company stands for. Like this example below:\n",
    "\n",
    "`textrank`\n",
    "> apple com u, human progress medicine mission, remote san diego new york boston full time condor building world finance, time money life, also good human interested mission u http bit, condor software software engineer, big hairy complex business domain value building code easy delete geek, podcast episode, biotech finance team, clinical trial deployment growth demand, resume link project, full stack django, inefficient financial process, edge therapy market, currently service looking product leaning software engineer, new york, life, san diego, six level http, condor220801, boston, treatment, 1 six level skilled people, faster affordably started condor, billion dollar, 1 six\n",
    "\n",
    "`keybert`\n",
    "\n",
    "> 'condorsoftware', 'condor', 'condor220801', 'biotech', 'engineer', 'software', 'career', 'progress', 'mission', 'django', 'resume', 'stack', 'podcast', 'skilled', 'medicine', 'podcasts', 'service', 'financial', 'affordably', 'finance', 'geek', 'note', 'deployment', 'level', 'joining', 'process', 'demand', 'market', 'life', 'looking', 'business', 'clinical', 'started', 'inefficient', 'building', 'world', 'money', 'apple', 'interested', 'product'\n",
    "\n",
    "#### Future Scope\n",
    "- We have currently compared off-the-shelf libraries for keywords extraction and selected the most reasonable one among them. \n",
    "- We could train specific models finetuned in extracting keywords for `tech stack`, `domain/field`, `size of company`, `viability in the market`, `growth`. We would need **labelled dataset** to finetune existing keyword extraction frameworks, or build custom models and then train them with our labelled dataset developed for each of these specific use-cases. "
   ]
  },
  {
   "attachments": {},
   "cell_type": "markdown",
   "metadata": {},
   "source": [
    "#### Determining Location\n",
    "- we use `geopy` and `pycountry` to determine and organize the locations extracted from **Named Entity Recognition** with `spacy`"
   ]
  },
  {
   "cell_type": "code",
   "execution_count": 363,
   "metadata": {},
   "outputs": [],
   "source": [
    "from geopy.geocoders import Nominatim\n",
    "import pycountry\n",
    "import pycountry_convert as pc\n",
    "from geopy.exc import GeocoderTimedOut\n",
    "import time\n",
    "\n",
    "# Load the English language model for spaCy\n",
    "nlp = spacy.load(\"en_core_web_sm\")\n",
    "geolocator = Nominatim(user_agent=\"location_finder_app\")\n",
    "\n",
    "# Function to determine if a location is in Europe using Nominatim\n",
    "def is_location_in_europe(location):\n",
    "    for l in location:\n",
    "        try:\n",
    "            location_info = geolocator.geocode(l)\n",
    "            country_name = location_info.address.split(\",\")[-1].strip()\n",
    "            country_code = pc.country_name_to_country_alpha2(country_name, cn_name_format=\"default\")\n",
    "            continent_name = pc.country_alpha2_to_continent_code(country_code)\n",
    "            if continent_name == \"EU\":\n",
    "                return True        \n",
    "        except Exception as e:\n",
    "            pass\n",
    "    return False\n",
    "\n",
    "\n",
    "def geocode_locations(location_entities):\n",
    "    location_candidates = []\n",
    "    for location in location_entities:\n",
    "        try:\n",
    "            location_info = geolocator.geocode(location, exactly_one=True, timeout=10)\n",
    "            if location_info:\n",
    "                location_candidates.append(location_info.address)\n",
    "        except (GeocoderTimedOut, Exception) as e:\n",
    "            pass\n",
    "        time.sleep(1)  # Add a delay between requests to avoid overloading the geocoding service\n",
    "    return location_candidates"
   ]
  },
  {
   "attachments": {},
   "cell_type": "markdown",
   "metadata": {},
   "source": [
    "The following examples demonstrate that the function returns True if `any` of the locations are in Europe. "
   ]
  },
  {
   "cell_type": "code",
   "execution_count": 332,
   "metadata": {},
   "outputs": [
    {
     "data": {
      "text/plain": [
       "True"
      ]
     },
     "execution_count": 332,
     "metadata": {},
     "output_type": "execute_result"
    }
   ],
   "source": [
    "is_location_in_europe(['New York', 'Delhi', 'San Francisco, Vue', 'Paris', 'Typescript'])"
   ]
  },
  {
   "cell_type": "code",
   "execution_count": 322,
   "metadata": {},
   "outputs": [
    {
     "data": {
      "text/plain": [
       "False"
      ]
     },
     "execution_count": 322,
     "metadata": {},
     "output_type": "execute_result"
    }
   ],
   "source": [
    "is_location_in_europe(['New York', 'Delhi', 'San Francisco, Vue', 'Australia', 'Typescript'])"
   ]
  },
  {
   "cell_type": "code",
   "execution_count": 362,
   "metadata": {},
   "outputs": [],
   "source": [
    "import re\n",
    "# Function to parse job listing with NER and extract attributes\n",
    "\n",
    "def parse_job_listing_with_ner(text):\n",
    "    is_europe = False\n",
    "    \n",
    "    eol_first = text.find('\\n')\n",
    "    first_line = text[:eol_first]\n",
    "    if '|' in first_line:\n",
    "        company_name = first_line.split('|')[0].strip()\n",
    "    else:\n",
    "        company_name = first_line.split(\" \")[0].strip()\n",
    "\n",
    "    doc = nlp(text)\n",
    "    # Extract location entities from NER GPE\n",
    "    location_entities = [ent.text for ent in doc.ents if ent.label_ == \"GPE\"]\n",
    "\n",
    "    # Check if location is in Europe\n",
    "    if location_entities:\n",
    "        location_candidates = geocode_locations(location_entities)\n",
    "        is_europe = is_location_in_europe(location_candidates)\n",
    "    else:\n",
    "        location_candidates = []\n",
    "\n",
    "    # Extract keywords using the provided keywords_extraction function\n",
    "    keywords = keywords_extraction(text)\n",
    "\n",
    "    # Description is the text itself\n",
    "    description = text\n",
    "    return Listing(company_name, location_candidates, is_europe, keywords, description, \"\")"
   ]
  },
  {
   "cell_type": "code",
   "execution_count": 324,
   "metadata": {},
   "outputs": [
    {
     "name": "stderr",
     "output_type": "stream",
     "text": [
      "100%|██████████| 307/307 [00:00<00:00, 286463.03it/s]\n",
      "100%|██████████| 303/303 [00:00<00:00, 327967.51it/s]\n",
      "100%|██████████| 330/330 [00:00<00:00, 361294.78it/s]\n",
      "100%|██████████| 344/344 [00:00<00:00, 378102.88it/s]\n",
      "100%|██████████| 342/342 [00:00<00:00, 282929.38it/s]\n",
      "100%|██████████| 411/411 [00:00<00:00, 355288.32it/s]\n",
      "100%|██████████| 423/423 [00:00<00:00, 361858.17it/s]\n",
      "100%|██████████| 337/337 [00:00<00:00, 362337.98it/s]\n",
      "100%|██████████| 474/474 [00:00<00:00, 380352.04it/s]\n",
      "100%|██████████| 517/517 [00:00<00:00, 378769.46it/s]\n",
      "100%|██████████| 459/459 [00:00<00:00, 377783.66it/s]\n",
      "100%|██████████| 496/496 [00:00<00:00, 340431.15it/s]\n",
      "100%|██████████| 628/628 [00:00<00:00, 336186.71it/s]\n",
      "100%|██████████| 528/528 [00:00<00:00, 320769.48it/s]\n",
      "100%|██████████| 725/725 [00:00<00:00, 370702.23it/s]\n",
      "100%|██████████| 757/757 [00:00<00:00, 327261.20it/s]\n",
      "100%|██████████| 750/750 [00:00<00:00, 344322.24it/s]\n",
      "100%|██████████| 788/788 [00:00<00:00, 385570.64it/s]\n",
      "100%|██████████| 799/799 [00:00<00:00, 336436.99it/s]\n",
      "100%|██████████| 659/659 [00:00<00:00, 359293.69it/s]\n"
     ]
    }
   ],
   "source": [
    "for title, month_listings in listings.items():\n",
    "    # For the scope of this project, extract only 2022 and 2023 listings\n",
    "    if title.split()[-1] == \"2022\" or title.split()[-1] == \"2023\":\n",
    "        for listing in tqdm(month_listings):\n",
    "            listing_object = parse_job_listing_with_ner(listing)\n",
    "            listing_object.date = title\n",
    "            listing_objects.append(listing_object)\n",
    "            pass"
   ]
  },
  {
   "cell_type": "code",
   "execution_count": 333,
   "metadata": {},
   "outputs": [
    {
     "name": "stdout",
     "output_type": "stream",
     "text": [
      "['Canada', 'React, Łódź-Śródmieście, Łódź, województwo łódzkie, Polska', 'Redux, Napa County, CAL Fire Northern Region, California, United States', 'Docker, South Lakeland, Westmorland and Furness, England, United Kingdom']\n",
      "True\n",
      "ep program, micro service experience relational database, devops mongodb aws gcp docker kubernetes, golang python django flask ruby rail, perfect fit preferred tech stack, cloud native distributed system, gcp docker kubernetes, skip technical interview, ton entrepreneurial spirit 5 year experience software engineering, ci cd, java scala, fe one vue j react redux, dev remote canada, explore, opportunity, one node j, canada, dev, right startup pool, http, 5 year, three month\n",
      "['San Francisco, CAL Fire Northern Region, California, United States', 'City of New York, New York, United States', 'Los Angeles, Los Angeles County, CAL Fire Contract Counties, California, United States', 'Boston, Suffolk County, Massachusetts, United States', 'Catalyst, Catcliffe, Waverley, Rotherham, South Yorkshire, England, United Kingdom', 'React, Łódź-Śródmieście, Łódź, województwo łódzkie, Polska']\n",
      "True\n",
      "senior software engineer fullstack http job lever co, www keyvalues com nova credit open role senior software engineer backend http job lever co neednova 79b7fb4c, f1176 staff software engineer fullstack http job lever co, nova credit, domestic credit, key value profile http, credit card loan mortgage lease, remote north america http www novacredit com, newcomer share credit history home country financial service provider others, new consumer lender new future immigrant team, 81e7 9de34 staff software engineer backend http job lever co, first round capital nyca combinator learn engineering culture, neednova, built substantial credit home country million immigrant difficulty, index general catalyst, s16 san francisco new york los angeles, ansible react graphql, right place, north america, nova, los angeles, 41a1 b5a5 7efad director data science http job lever co, new york, san francisco, boston, 20eb6 tech stack node j typescript postgres aws, neednova b27e7f56 1905, 9cac 4879, 30 people, 7f0c, f1176, 20, 30, 4124, 41a1, 46f8, 7d054, 81e7, 8753 4d18, 8b0f4, million\n",
      "[]\n",
      "False\n",
      "engineer staff backend engineer, full stack engineer email, budget energy consumption building engineering optimization problem, tackle climate change energy efficiency, important mind space looking staff, proprietary iot platform software stack, submission form website http bractlet com career email job, world residential commercial building, dir software, intelligent people, multiple role company, data, austin tx full time, 40 carbon emission, u, 40\n"
     ]
    }
   ],
   "source": [
    "listing_tests = random.sample(listing_objects, 3)\n",
    "for l in listing_tests:\n",
    "    print(l.location)\n",
    "    print(l.is_europe)\n",
    "    print(l.keywords)"
   ]
  },
  {
   "attachments": {},
   "cell_type": "markdown",
   "metadata": {},
   "source": [
    "### Bug Spotted\n",
    "Oops! This classifies React, Redux, Docker as locations (because they ARE!) say hello to `Docker, South Lakeland, Westmorland and Furness, England, United Kingdom`. The library used does not spot them, although - there is an `importance` attribute available in `geopy` and while I was crunched for time to rerun it on the whole thing, here is what a potential solve would look like... "
   ]
  },
  {
   "cell_type": "code",
   "execution_count": 340,
   "metadata": {},
   "outputs": [
    {
     "name": "stdout",
     "output_type": "stream",
     "text": [
      "['CANADA', 'React', 'Redux', 'Docker', 'NoSQL']\n"
     ]
    },
    {
     "data": {
      "text/plain": [
       "['Canada',\n",
       " 'React, Łódź-Śródmieście, Łódź, województwo łódzkie, Polska',\n",
       " 'Redux, Napa County, CAL Fire Northern Region, California, United States',\n",
       " 'Docker, South Lakeland, Westmorland and Furness, England, United Kingdom']"
      ]
     },
     "execution_count": 340,
     "metadata": {},
     "output_type": "execute_result"
    }
   ],
   "source": [
    "### BEFORE\n",
    "test = listing_tests[0]\n",
    "test_text = test.description\n",
    "test_listing = parse_job_listing_with_ner(test_text)\n",
    "test_listing.location"
   ]
  },
  {
   "attachments": {},
   "cell_type": "markdown",
   "metadata": {},
   "source": [
    "#### Potential Solve\n",
    "- Only keep locations with a high importance score (> 0.7)"
   ]
  },
  {
   "cell_type": "code",
   "execution_count": 341,
   "metadata": {},
   "outputs": [],
   "source": [
    "def geocode_locations(location_entities):\n",
    "    location_candidates = []\n",
    "    for location in location_entities:\n",
    "        try:\n",
    "            location_info = geolocator.geocode(location, exactly_one=True, timeout=10)\n",
    "            # Only keep locations with a high importance score\n",
    "            if location_info and location_info.raw[\"importance\"] > 0.7:\n",
    "                location_candidates.append(location_info.address)\n",
    "        except (GeocoderTimedOut, Exception) as e:\n",
    "            pass\n",
    "        time.sleep(1)  # Add a delay between requests to avoid overloading the geocoding service\n",
    "    return location_candidates"
   ]
  },
  {
   "cell_type": "code",
   "execution_count": 342,
   "metadata": {},
   "outputs": [
    {
     "name": "stdout",
     "output_type": "stream",
     "text": [
      "['CANADA', 'React', 'Redux', 'Docker', 'NoSQL']\n",
      "0.9661259109654082\n",
      "0.3100099999999999\n",
      "0.18500999999999992\n",
      "0.44325697009425336\n"
     ]
    },
    {
     "data": {
      "text/plain": [
       "['Canada']"
      ]
     },
     "execution_count": 342,
     "metadata": {},
     "output_type": "execute_result"
    }
   ],
   "source": [
    "test = listing_tests[0]\n",
    "test_text = test.description\n",
    "test_listing = parse_job_listing_with_ner(test_text)\n",
    "test_listing.location"
   ]
  },
  {
   "attachments": {},
   "cell_type": "markdown",
   "metadata": {},
   "source": [
    "Awesome! Only Canada remains. \n",
    "\n",
    "(Note: I didn't have time to run it again with the rectification, so the data exploration below may be a little buggy when it comes to detecting European locations!)"
   ]
  },
  {
   "cell_type": "code",
   "execution_count": 252,
   "metadata": {},
   "outputs": [],
   "source": [
    "import pickle\n",
    "\n",
    "with open('hackernews_listings.pkl', 'wb') as f:\n",
    "    pickle.dump(listing_objects, f)\n"
   ]
  },
  {
   "cell_type": "code",
   "execution_count": 325,
   "metadata": {},
   "outputs": [],
   "source": [
    "with open('hackernews_listings.pkl', 'rb') as f:\n",
    "    listing_objects = pickle.load(f)"
   ]
  },
  {
   "attachments": {},
   "cell_type": "markdown",
   "metadata": {},
   "source": [
    "### Sentence Transformers: Embeddings for Keywords\n",
    "- Sentence Transformers are a class of pre-trained transformer-based models that encode textual data into dense vector representations (embeddings). They have been specifically designed to capture the semantic information and context of sentences, making them effective in capturing the nuances and meaning of individual keywords within company descriptions.\n",
    "\n",
    "- This results in more informative and context-aware keyword representations, leading to better clustering performance.\n",
    "\n",
    "- When using unsupervised learning techniques like K-means with Sentence Transformers embeddings, we can group similar keywords and, consequently, similar companies into clusters. The semantic information encoded in the embeddings enables the clustering algorithm to identify meaningful segments of different companies based on their descriptions. This allows for the discovery of inherent patterns and similarities between companies, aiding in market analysis, competitor identification, and other data-driven business insights."
   ]
  },
  {
   "cell_type": "code",
   "execution_count": 256,
   "metadata": {},
   "outputs": [],
   "source": [
    "from sentence_transformers import SentenceTransformer\n",
    "from sklearn.cluster import KMeans\n",
    "import matplotlib.pyplot as plt\n",
    "import pandas as pd\n",
    "\n",
    "# Load the Sentence Transformer model\n",
    "model = SentenceTransformer('distilbert-base-nli-stsb-mean-tokens')"
   ]
  },
  {
   "cell_type": "code",
   "execution_count": 373,
   "metadata": {},
   "outputs": [
    {
     "name": "stderr",
     "output_type": "stream",
     "text": [
      "Embedding Keywords: 100%|██████████| 10627/10627 [00:00<00:00, 508155.60it/s]\n"
     ]
    }
   ],
   "source": [
    "# Embed the keywords using the Sentence Transformer model\n",
    "embeddings = []\n",
    "europe_listings = []\n",
    "for listing in tqdm(listing_objects, desc=\"Embedding Keywords\"):\n",
    "    if listing.is_europe:\n",
    "        europe_listings.append(listing)\n",
    "        embeddings.append(model.encode(listing.keywords))"
   ]
  },
  {
   "cell_type": "code",
   "execution_count": 374,
   "metadata": {},
   "outputs": [
    {
     "data": {
      "text/plain": [
       "(1999, 768)"
      ]
     },
     "execution_count": 374,
     "metadata": {},
     "output_type": "execute_result"
    }
   ],
   "source": [
    "import numpy as np\n",
    "embeddings = np.vstack(embeddings)\n",
    "embeddings.shape"
   ]
  },
  {
   "attachments": {},
   "cell_type": "markdown",
   "metadata": {},
   "source": [
    "The embeddings have `768` dimensions and we have a *slightly imperfect* algorithm that has determined `1999` listings with a true `is_europe` tag in 2022-2023"
   ]
  },
  {
   "cell_type": "code",
   "execution_count": 354,
   "metadata": {},
   "outputs": [
    {
     "data": {
      "image/png": "[encoded data removed]",
      "text/plain": [
       "<Figure size 1200x600 with 1 Axes>"
      ]
     },
     "metadata": {},
     "output_type": "display_data"
    }
   ],
   "source": [
    "import matplotlib.pyplot as plt\n",
    "from sklearn.decomposition import PCA\n",
    "\n",
    "# Apply KMeans clustering to group the listings based on keyword similarity\n",
    "num_clusters = 3  # You can adjust this number based on your dataset\n",
    "kmeans = KMeans(n_clusters=num_clusters, random_state=42)\n",
    "cluster_indices = kmeans.fit_predict(embeddings)\n",
    "\n",
    "# Perform PCA to reduce the embeddings to 3 dimensions\n",
    "pca = PCA(n_components=3)\n",
    "embeddings_3d = pca.fit_transform(embeddings)\n",
    "\n",
    "# Randomly select 1000 points from the embeddings array\n",
    "sample_indices = random.sample(range(len(embeddings_3d)), 1000)\n",
    "sample_embeddings_3d = embeddings_3d[sample_indices]\n",
    "\n",
    "# Convert the cluster indices for the sampled points to a DataFrame\n",
    "sample_cluster_indices = cluster_indices[sample_indices]\n",
    "\n",
    "# Plot the PCA of embeddings in 3D - subplot 1\n",
    "plt.figure(figsize=(12, 6))\n",
    "plt.subplot(121)\n",
    "plt.scatter(sample_embeddings_3d[:, 0], sample_embeddings_3d[:, 1], c=sample_cluster_indices, cmap='rainbow')\n",
    "plt.title('PCA of Listings Clustering (Dimensions 1 and 2)')\n",
    "plt.xlabel('PCA Dimension 1')\n",
    "plt.ylabel('PCA Dimension 2')\n",
    "\n",
    "plt.tight_layout()\n",
    "plt.show()"
   ]
  },
  {
   "attachments": {},
   "cell_type": "markdown",
   "metadata": {},
   "source": [
    "We have clusters that are semantically correlated with each other - but it doesn't necessarily tell us anthing about the potential success of the companies. \n",
    "\n",
    "### Supervised Learning\n",
    "We have been working with an unsupervised dataset, since we don't actually know which companies would be successful or not. An opensource dataset is explored of successful investments and their details from [Kaggle: Startups Funding Dataset](https://www.kaggle.com/datasets/arpan129/startups-funding-dataset?resource=download)\n",
    "Of course, the quality of this dataset can be improved by exploring other robust sources like `Crunchbase` or `Pitchbook`. \n",
    "\n",
    "Now we will encode the successful investments into the same Transformer model we have built. "
   ]
  },
  {
   "cell_type": "code",
   "execution_count": 356,
   "metadata": {},
   "outputs": [],
   "source": [
    "# Define the path to the folder containing the CSV files\n",
    "folder_path_2020 = \"data/startup-funding-data/2020\"\n",
    "folder_path_2021 = \"data/startup-funding-data/2021\"\n",
    "\n",
    "# Function to read all CSV files in a folder and return the dataframe\n",
    "def read_csv_files(folder_path):\n",
    "    df_list = []\n",
    "    for file in os.listdir(folder_path):\n",
    "        if file.endswith(\".csv\"):\n",
    "            file_path = os.path.join(folder_path, file)\n",
    "            df = pd.read_csv(file_path)\n",
    "            df_list.append(df)\n",
    "    return pd.concat(df_list)\n",
    "\n",
    "# Read CSV files for 2020 and 2021 and store them in dataframe\n",
    "df_prev_years = pd.concat([read_csv_files(folder_path_2020), read_csv_files(folder_path_2021)], ignore_index=True)\n",
    "\n",
    "# Encode the text data using SentenceTransformer and store the embeddings as a new column \"funded_companies_embeddings\"\n",
    "df_prev_years['funded_companies_embeddings'] = df_prev_years.apply(lambda row: model.encode(f\"{row['Industry/Vertical']}: {row['Sub-Vertical']}\"), axis=1)"
   ]
  },
  {
   "cell_type": "code",
   "execution_count": 358,
   "metadata": {},
   "outputs": [
    {
     "data": {
      "text/html": [
       "<div>\n",
       "<style scoped>\n",
       "    .dataframe tbody tr th:only-of-type {\n",
       "        vertical-align: middle;\n",
       "    }\n",
       "\n",
       "    .dataframe tbody tr th {\n",
       "        vertical-align: top;\n",
       "    }\n",
       "\n",
       "    .dataframe thead th {\n",
       "        text-align: right;\n",
       "    }\n",
       "</style>\n",
       "<table border=\"1\" class=\"dataframe\">\n",
       "  <thead>\n",
       "    <tr style=\"text-align: right;\">\n",
       "      <th></th>\n",
       "      <th>Unnamed: 0</th>\n",
       "      <th>Startup Name</th>\n",
       "      <th>Founding Date</th>\n",
       "      <th>City</th>\n",
       "      <th>Industry/Vertical</th>\n",
       "      <th>Sub-Vertical</th>\n",
       "      <th>Founders</th>\n",
       "      <th>Investors</th>\n",
       "      <th>Amount(in USD)</th>\n",
       "      <th>Investment Stage</th>\n",
       "      <th>0</th>\n",
       "      <th>1</th>\n",
       "      <th>2</th>\n",
       "      <th>3</th>\n",
       "      <th>4</th>\n",
       "      <th>5</th>\n",
       "      <th>6</th>\n",
       "      <th>7</th>\n",
       "      <th>8</th>\n",
       "      <th>funded_companies_embeddings</th>\n",
       "    </tr>\n",
       "  </thead>\n",
       "  <tbody>\n",
       "    <tr>\n",
       "      <th>0</th>\n",
       "      <td>0</td>\n",
       "      <td>Aqgromalin</td>\n",
       "      <td>2019</td>\n",
       "      <td>Chennai</td>\n",
       "      <td>AgriTech</td>\n",
       "      <td>Cultivating Ideas for Profit</td>\n",
       "      <td>Prasanna Manogaran, Bharani C L</td>\n",
       "      <td>Angel investors</td>\n",
       "      <td>$200,000</td>\n",
       "      <td>NaN</td>\n",
       "      <td>NaN</td>\n",
       "      <td>NaN</td>\n",
       "      <td>NaN</td>\n",
       "      <td>NaN</td>\n",
       "      <td>NaN</td>\n",
       "      <td>NaN</td>\n",
       "      <td>NaN</td>\n",
       "      <td>NaN</td>\n",
       "      <td>NaN</td>\n",
       "      <td>[-0.16724615, 0.2870057, -0.35044473, -0.17276...</td>\n",
       "    </tr>\n",
       "    <tr>\n",
       "      <th>1</th>\n",
       "      <td>1</td>\n",
       "      <td>Krayonnz</td>\n",
       "      <td>2019</td>\n",
       "      <td>Bangalore</td>\n",
       "      <td>EdTech</td>\n",
       "      <td>An academy-guardian-scholar centric ecosystem ...</td>\n",
       "      <td>Saurabh Dixit, Gurudutt Upadhyay</td>\n",
       "      <td>GSF Accelerator</td>\n",
       "      <td>$100,000</td>\n",
       "      <td>Pre-seed</td>\n",
       "      <td>NaN</td>\n",
       "      <td>NaN</td>\n",
       "      <td>NaN</td>\n",
       "      <td>NaN</td>\n",
       "      <td>NaN</td>\n",
       "      <td>NaN</td>\n",
       "      <td>NaN</td>\n",
       "      <td>NaN</td>\n",
       "      <td>NaN</td>\n",
       "      <td>[-0.37713674, -0.22220612, 0.9945194, -0.58232...</td>\n",
       "    </tr>\n",
       "    <tr>\n",
       "      <th>2</th>\n",
       "      <td>2</td>\n",
       "      <td>PadCare Labs</td>\n",
       "      <td>2018</td>\n",
       "      <td>Pune</td>\n",
       "      <td>Hygiene management</td>\n",
       "      <td>Converting bio-hazardous waste to harmless waste</td>\n",
       "      <td>Ajinkya Dhariya</td>\n",
       "      <td>Venture Center</td>\n",
       "      <td>Undisclosed</td>\n",
       "      <td>Pre-seed</td>\n",
       "      <td>NaN</td>\n",
       "      <td>NaN</td>\n",
       "      <td>NaN</td>\n",
       "      <td>NaN</td>\n",
       "      <td>NaN</td>\n",
       "      <td>NaN</td>\n",
       "      <td>NaN</td>\n",
       "      <td>NaN</td>\n",
       "      <td>NaN</td>\n",
       "      <td>[-0.08373204, 0.084815495, -0.60105896, -0.451...</td>\n",
       "    </tr>\n",
       "    <tr>\n",
       "      <th>3</th>\n",
       "      <td>3</td>\n",
       "      <td>NCOME</td>\n",
       "      <td>2020</td>\n",
       "      <td>New Delhi</td>\n",
       "      <td>Escrow</td>\n",
       "      <td>Escrow-as-a-service platform</td>\n",
       "      <td>Ritesh Tiwari</td>\n",
       "      <td>Venture Catalysts, PointOne Capital</td>\n",
       "      <td>$400,000</td>\n",
       "      <td>NaN</td>\n",
       "      <td>NaN</td>\n",
       "      <td>NaN</td>\n",
       "      <td>NaN</td>\n",
       "      <td>NaN</td>\n",
       "      <td>NaN</td>\n",
       "      <td>NaN</td>\n",
       "      <td>NaN</td>\n",
       "      <td>NaN</td>\n",
       "      <td>NaN</td>\n",
       "      <td>[-0.27341348, -0.22515787, -0.19664867, -0.640...</td>\n",
       "    </tr>\n",
       "    <tr>\n",
       "      <th>4</th>\n",
       "      <td>4</td>\n",
       "      <td>Gramophone</td>\n",
       "      <td>2016</td>\n",
       "      <td>Indore</td>\n",
       "      <td>AgriTech</td>\n",
       "      <td>Gramophone is an AgTech platform enabling acce...</td>\n",
       "      <td>Ashish Rajan Singh, Harshit Gupta, Nishant Mah...</td>\n",
       "      <td>Siana Capital Management, Info Edge</td>\n",
       "      <td>$340,000</td>\n",
       "      <td>NaN</td>\n",
       "      <td>NaN</td>\n",
       "      <td>NaN</td>\n",
       "      <td>NaN</td>\n",
       "      <td>NaN</td>\n",
       "      <td>NaN</td>\n",
       "      <td>NaN</td>\n",
       "      <td>NaN</td>\n",
       "      <td>NaN</td>\n",
       "      <td>NaN</td>\n",
       "      <td>[-0.82995796, 0.3084408, -0.1001115, 0.0029207...</td>\n",
       "    </tr>\n",
       "  </tbody>\n",
       "</table>\n",
       "</div>"
      ],
      "text/plain": [
       "   Unnamed: 0  Startup Name Founding Date       City   Industry/Vertical  \\\n",
       "0           0    Aqgromalin          2019    Chennai            AgriTech   \n",
       "1           1      Krayonnz          2019  Bangalore              EdTech   \n",
       "2           2  PadCare Labs          2018       Pune  Hygiene management   \n",
       "3           3         NCOME          2020  New Delhi              Escrow   \n",
       "4           4    Gramophone          2016     Indore            AgriTech   \n",
       "\n",
       "                                        Sub-Vertical  \\\n",
       "0                       Cultivating Ideas for Profit   \n",
       "1  An academy-guardian-scholar centric ecosystem ...   \n",
       "2   Converting bio-hazardous waste to harmless waste   \n",
       "3                       Escrow-as-a-service platform   \n",
       "4  Gramophone is an AgTech platform enabling acce...   \n",
       "\n",
       "                                            Founders  \\\n",
       "0                    Prasanna Manogaran, Bharani C L   \n",
       "1                   Saurabh Dixit, Gurudutt Upadhyay   \n",
       "2                                    Ajinkya Dhariya   \n",
       "3                                      Ritesh Tiwari   \n",
       "4  Ashish Rajan Singh, Harshit Gupta, Nishant Mah...   \n",
       "\n",
       "                             Investors Amount(in USD) Investment Stage    0  \\\n",
       "0                      Angel investors       $200,000              NaN  NaN   \n",
       "1                      GSF Accelerator       $100,000         Pre-seed  NaN   \n",
       "2                       Venture Center    Undisclosed         Pre-seed  NaN   \n",
       "3  Venture Catalysts, PointOne Capital       $400,000              NaN  NaN   \n",
       "4  Siana Capital Management, Info Edge       $340,000              NaN  NaN   \n",
       "\n",
       "    1    2    3    4    5    6    7    8  \\\n",
       "0 NaN  NaN  NaN  NaN  NaN  NaN  NaN  NaN   \n",
       "1 NaN  NaN  NaN  NaN  NaN  NaN  NaN  NaN   \n",
       "2 NaN  NaN  NaN  NaN  NaN  NaN  NaN  NaN   \n",
       "3 NaN  NaN  NaN  NaN  NaN  NaN  NaN  NaN   \n",
       "4 NaN  NaN  NaN  NaN  NaN  NaN  NaN  NaN   \n",
       "\n",
       "                         funded_companies_embeddings  \n",
       "0  [-0.16724615, 0.2870057, -0.35044473, -0.17276...  \n",
       "1  [-0.37713674, -0.22220612, 0.9945194, -0.58232...  \n",
       "2  [-0.08373204, 0.084815495, -0.60105896, -0.451...  \n",
       "3  [-0.27341348, -0.22515787, -0.19664867, -0.640...  \n",
       "4  [-0.82995796, 0.3084408, -0.1001115, 0.0029207...  "
      ]
     },
     "execution_count": 358,
     "metadata": {},
     "output_type": "execute_result"
    }
   ],
   "source": [
    "df_prev_years.head()\n"
   ]
  },
  {
   "attachments": {},
   "cell_type": "markdown",
   "metadata": {},
   "source": [
    "#### Note\n",
    "The supervised dataset is sourced from the Indian market, so the comparison of markets in Europe isn't entirely fair. The hypothesis for this expedition is that: **Successful domains/sub-verticals that have previously been funded, may be successful in European markets as well**\n",
    "\n",
    "### Pairwise Nearest Neighbour Search\n",
    "For each of the european companies from the listing, a nearest neighbour search of previously funded companies and their descriptions of sub-verticals is undertaken. If a match within a maximum threshold is found within its top 5 nearest neighbours, then it is considered a **viable** candidate for consideration. "
   ]
  },
  {
   "cell_type": "code",
   "execution_count": 393,
   "metadata": {},
   "outputs": [
    {
     "name": "stdout",
     "output_type": "stream",
     "text": [
      "Nearest neighbor distance: 0.32515352964401245\n",
      "Genpax with keywords unique solution address challenge goal, infection control solution human animal healthcare, outbreak mrsa pathogen goal, full stack product engineer london uk, working high output team, www genpax co building game, early effective action, whole genome sequencing wgs data, biotech healthtech experience, london self motivated experience, proactive control, python graphql react typescript postgres aws, dangerous antibiotic resistant strain, necessary strong academic background, bacterial analysis platform, open minded adopting technology, interesting challenge, bioinformatics help hospital, sense ideal candidate, utility scalability speed, novel interactive tree, hybrid flexible http, stack, appropriate response, london, ing, touch, 55 100k equity based experience jfreeman, thing, fully scalable system, genpax, 100k, 55\n",
      "- Company: Mestastop Solutions | Sub-vertical: Mestastop aims to provide a solution for such challenges with their unique proprietary platforms, METAssay, METSCAN, and METVivo.\n",
      "Nearest neighbor distance: 0.33769357204437256\n",
      "Genpax with keywords unique solution address challenge goal, infection control solution human animal healthcare, outbreak mrsa pathogen goal, www genpax co building game, experienced frontend full stack product engineer, access solution, full stack frontend product engineer london uk, early effective action, whole genome sequencing wgs data, proactive control, python graphql react typescript postgres aws, dangerous antibiotic resistant strain, bacterial analysis platform, open minded adopting technology, interesting challenge, bioinformatics help hospital, utility scalability speed, novel interactive tree, hybrid flexible http, appropriate response, stack, small engineering team, sense, london, 55 100k equity based experience jfreeman, fully scalable system, genpax, 100k, 55\n",
      "- Company: Mestastop Solutions | Sub-vertical: Mestastop aims to provide a solution for such challenges with their unique proprietary platforms, METAssay, METSCAN, and METVivo.\n",
      "Nearest neighbor distance: 0.3433228135108948\n",
      "LettUs Grow with keywords novel hardware software indoor outdoor farm looking embedded developer lead control software role description http lettusgrow bamboohr com career 50 source, embedded developer, 3d, bristol uk lettus, agtech company, lettus, 50\n",
      "- Company: Krishitantra | Sub-vertical: Krishi-Tantra is an Agri-IoT startup building farm automation for controlled agricultural environment.\n",
      "Nearest neighbor distance: 0.3377583622932434\n",
      "Replicate (YC W20) with keywords easy run machine learning model cloud, big library open source machine learning model line code, com join u email u job, engineer engineer good human look customer hacker, cool thing machine learning show, model scale experienced team, a16z sequoia andrej karpathy dylan field, andrej karpathy dylan field guillermo, docker github heroku apple various place, com replicate, com, replicate http, remote http, github heroku, berkeley, yc w20\n",
      "- Company: Pixuate | Sub-vertical: Pixuate enables intelligent business process automation through advanced computer vision, AI and machine learning.\n",
      "Nearest neighbor distance: 0.342960000038147\n",
      "Matanuska Telecom Association with keywords great benefit long term stability existing environment role, configuration support chef terraform nomad concourse consul vault sensu traefik hiring manager, pure software startup, adjustment time http mta csod com ux, platform delivery portion workload, 70 year old enterprise telecom high speed startup salary range, relatively complex business enterprise environment role, support, full time, interest, job, careersite, alaskan, mta, 4 home requisition, matanuska telecom association devops, alaska, 70 year old, perfectly clear thing, 4, 56, 8, 9\n",
      "- Company: Thrive | Sub-vertical: Thrive is all-in-one restaurant ordering suite for table ordering, pickup, and delivery with marketing in-built.\n"
     ]
    }
   ],
   "source": [
    "from sklearn.metrics.pairwise import cosine_distances\n",
    "\n",
    "THRESHOLD = 0.35\n",
    "candidates = []\n",
    "for i, listing in enumerate(europe_listings):\n",
    "    embedding = embeddings[i]\n",
    "\n",
    "    # Calculate the cosine distance between the current embedding and all embeddings in df_prev_years\n",
    "    distances = cosine_distances([embedding], list(df_prev_years[\"funded_companies_embeddings\"].values))\n",
    "    # Get the indices of the 5 nearest neighbors\n",
    "    nearest_neighbors_indices = distances.argsort()[0][:5]\n",
    "    # Check if any of the 5 nearest neighbors have a distance less than the threshold\n",
    "    for idx in nearest_neighbors_indices:\n",
    "        if distances[0, idx] < THRESHOLD:\n",
    "            similar_company = df_prev_years.iloc[idx]\n",
    "            candidates.append(f\"Nearest neighbor distance: {distances[0, idx]}\\n{listing.company_name} with keywords {listing.keywords}\\n- Company: {similar_company['Startup Name']} | Sub-vertical: {similar_company['Sub-Vertical']}\")\n",
    "            break\n",
    "\n",
    "for c in candidates[:5]:\n",
    "    print(c)"
   ]
  },
  {
   "attachments": {},
   "cell_type": "markdown",
   "metadata": {},
   "source": [
    "### Future Work \n",
    "1. **Feature Engineering**: The features selected in this iteration are `is_europe` determined through Named Entity Recognition and `keywords` obtained through a textrank algorithm for keywords extraction. These keywords are lumped together and cover a variety of concepts. We can do specific dimensions of feature extraction by training custom models to recognize niche concepts like: `tech stack`, `domain/field`, `size of company`, `viability in the market`, `growth`, `funding stage`, `employee satisfaction/turnover`. We would need **labelled dataset** to finetune existing keyword extraction frameworks, or build custom models and then train them with our labelled dataset developed for each of these specific use-cases. Each of these would be a custom-engineered feature, perhaps crafted with its own custom model. We can then either encode these features as embeddings or other encoding practices and use them to train a model - like a neural network or a random forest. \n",
    "2. **Supervised Dataset**: Free/open source resources for datasets for privileged information like funding/investments are harder to come by. A subscription to `Crunchbase`, `Pitchbook` or the likes to get validated, quality investment data - that covers a variety of factors - Market Opportunity, Competitive Advantage, Business Model, Market Traction, Exit Potential etc and building a comprehensive supervised model for each of these parameters would help evaluate new deals through each of those perspectives. We would need to work out how each of these different factors contribute to success, and how we would capture this information as features in a custom supervised dataset. When everyone has the same data, how we use the data is what differentiates! \n",
    "3. **Link Hopping**: A Series A focussed VC firm would target seed and pre-seed startups. This information is difficult to be determined straight from the job listing. But job listings usually have links to websites where we can learn more about the company itself. (rather than just the listing!) The job-listing can be used as a starting point to jumpstart then scrape information from the website of the company and curate even more detailed information about the company by building a more sophisticated scraping and parsing tool. "
   ]
  }
 ],
 "metadata": {
  "kernelspec": {
   "display_name": "w2v",
   "language": "python",
   "name": "python3"
  },
  "language_info": {
   "codemirror_mode": {
    "name": "ipython",
    "version": 3
   },
   "file_extension": ".py",
   "mimetype": "text/x-python",
   "name": "python",
   "nbconvert_exporter": "python",
   "pygments_lexer": "ipython3",
   "version": "3.10.6"
  },
  "orig_nbformat": 4
 },
 "nbformat": 4,
 "nbformat_minor": 2
}
